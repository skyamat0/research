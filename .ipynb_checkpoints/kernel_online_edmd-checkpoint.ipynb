{
 "cells": [
  {
   "cell_type": "code",
   "execution_count": 1,
   "id": "d4055268-129b-4044-8b0a-344611d0a0f5",
   "metadata": {},
   "outputs": [
    {
     "name": "stdout",
     "output_type": "stream",
     "text": [
      "[ 1.30214825 -6.64891845 -2.26447228]\n"
     ]
    }
   ],
   "source": [
    "# chaos dynamics(Lorentz equation)\n",
    "from KernelOnlineEDMD import kEDMD\n",
    "from onlineSVD import svd_update\n",
    "from onlineSVD import svd_update\n",
    "import numpy as np\n",
    "import matplotlib.pyplot as plt\n",
    "from scipy.integrate import solve_ivp\n",
    "\n",
    "\n",
    "def lorentz(t, x, sigma, rho, beta):\n",
    "    dx0dt = sigma * (x[1] - x[0])\n",
    "    dx1dt = rho * x[0] - x[1] - x[0]*x[2]\n",
    "    dx2dt = x[0] * x[1] - beta * x[2]\n",
    "    return [dx0dt, dx1dt, dx2dt]\n",
    "\n",
    "time_step1 = [0, 5]\n",
    "sigma = 10\n",
    "rho = 28\n",
    "beta = 8\n",
    "np.random.seed(100)\n",
    "initial_value = np.random.uniform(low=-15, high=15, size=3)\n",
    "print(initial_value)\n",
    "# before change param\n",
    "sol_lorentz = solve_ivp(lorentz, t_span=time_step1, y0=initial_value, args=[sigma, rho, beta], rtol=1e-8, t_eval=np.arange(0, 5, 0.01))\n",
    "solution_lorentz = (sol_lorentz.y - np.min(sol_lorentz.y, axis=1).reshape(-1, 1)) / (np.max(sol_lorentz.y, axis=1) - np.min(sol_lorentz.y, axis=1)).reshape(-1,1)\n",
    "initial_value = (initial_value.reshape(-1,1) - np.min(sol_lorentz.y, axis=1).reshape(-1, 1)) / (np.max(sol_lorentz.y, axis=1) - np.min(sol_lorentz.y, axis=1)).reshape(-1,1)\n",
    "X_lorentz = solution_lorentz[:, :-1]\n",
    "Y_lorentz = solution_lorentz[:, 1:]"
   ]
  },
  {
   "cell_type": "code",
   "execution_count": 2,
   "id": "83029433-970f-44a7-bbe5-4594ad441316",
   "metadata": {},
   "outputs": [
    {
     "name": "stdout",
     "output_type": "stream",
     "text": [
      "kedmd done\n",
      "(3, 499)\n"
     ]
    },
    {
     "ename": "ValueError",
     "evalue": "operands could not be broadcast together with shapes (3,499) (3,) ",
     "output_type": "error",
     "traceback": [
      "\u001b[0;31m---------------------------------------------------------------------------\u001b[0m",
      "\u001b[0;31mValueError\u001b[0m                                Traceback (most recent call last)",
      "Cell \u001b[0;32mIn[2], line 18\u001b[0m\n\u001b[1;32m     16\u001b[0m \u001b[38;5;28mprint\u001b[39m(X_lorentz\u001b[38;5;241m.\u001b[39mshape)\n\u001b[1;32m     17\u001b[0m \u001b[38;5;28;01mfor\u001b[39;00m x \u001b[38;5;129;01min\u001b[39;00m X_lorentz\u001b[38;5;241m.\u001b[39mT:\n\u001b[0;32m---> 18\u001b[0m     pred\u001b[38;5;241m.\u001b[39mappend(\u001b[43mkedmd\u001b[49m\u001b[38;5;241;43m.\u001b[39;49m\u001b[43mpredict\u001b[49m\u001b[43m(\u001b[49m\u001b[43mx\u001b[49m\u001b[43m)\u001b[49m)\n\u001b[1;32m     19\u001b[0m error_kedmd \u001b[38;5;241m=\u001b[39m np\u001b[38;5;241m.\u001b[39mlinalg\u001b[38;5;241m.\u001b[39mnorm(np\u001b[38;5;241m.\u001b[39marray(pred)\u001b[38;5;241m.\u001b[39mT \u001b[38;5;241m-\u001b[39m Y_lorentz, axis\u001b[38;5;241m=\u001b[39m\u001b[38;5;241m0\u001b[39m)\u001b[38;5;241m.\u001b[39mmean()\n\u001b[1;32m     20\u001b[0m \u001b[38;5;28mprint\u001b[39m(\u001b[38;5;124m\"\u001b[39m\u001b[38;5;124mprediction done\u001b[39m\u001b[38;5;124m\"\u001b[39m)\n",
      "File \u001b[0;32m~/su/su_mdeg/online_EDMD/KernelOnlineEDMD/KernelOnlineEDMD.py:72\u001b[0m, in \u001b[0;36mkEDMD.predict\u001b[0;34m(self, x)\u001b[0m\n\u001b[1;32m     67\u001b[0m \u001b[38;5;28;01mdef\u001b[39;00m \u001b[38;5;21mpredict\u001b[39m(\u001b[38;5;28mself\u001b[39m, x):\n\u001b[1;32m     68\u001b[0m \u001b[38;5;250m    \u001b[39m\u001b[38;5;124;03m\"\"\"\u001b[39;00m\n\u001b[1;32m     69\u001b[0m \u001b[38;5;124;03m    x: 1 * N_dim\u001b[39;00m\n\u001b[1;32m     70\u001b[0m \u001b[38;5;124;03m    return: 1 * N_dim\u001b[39;00m\n\u001b[1;32m     71\u001b[0m \u001b[38;5;124;03m    \"\"\"\u001b[39;00m\n\u001b[0;32m---> 72\u001b[0m     phi_Xx \u001b[38;5;241m=\u001b[39m \u001b[38;5;28;43mself\u001b[39;49m\u001b[38;5;241;43m.\u001b[39;49m\u001b[43mcalc_eigenfunction\u001b[49m\u001b[43m(\u001b[49m\u001b[43mx\u001b[49m\u001b[43m)\u001b[49m\n\u001b[1;32m     73\u001b[0m     \u001b[38;5;28;01mreturn\u001b[39;00m np\u001b[38;5;241m.\u001b[39mreal((\u001b[38;5;28mself\u001b[39m\u001b[38;5;241m.\u001b[39meigenvalues \u001b[38;5;241m*\u001b[39m phi_Xx\u001b[38;5;241m.\u001b[39mflatten()) \u001b[38;5;241m@\u001b[39m \u001b[38;5;28mself\u001b[39m\u001b[38;5;241m.\u001b[39mmodes)\u001b[38;5;241m.\u001b[39mT\n",
      "File \u001b[0;32m~/su/su_mdeg/online_EDMD/KernelOnlineEDMD/KernelOnlineEDMD.py:62\u001b[0m, in \u001b[0;36mkEDMD.calc_eigenfunction\u001b[0;34m(self, x)\u001b[0m\n\u001b[1;32m     60\u001b[0m \u001b[38;5;66;03m#次の座標を予測したいデータ点を入力とする固有関数の値を求める\u001b[39;00m\n\u001b[1;32m     61\u001b[0m \u001b[38;5;28;01mif\u001b[39;00m \u001b[38;5;28mself\u001b[39m\u001b[38;5;241m.\u001b[39mkernel \u001b[38;5;241m==\u001b[39m \u001b[38;5;124m\"\u001b[39m\u001b[38;5;124mgaussian\u001b[39m\u001b[38;5;124m\"\u001b[39m:\n\u001b[0;32m---> 62\u001b[0m     phi_Xx \u001b[38;5;241m=\u001b[39m np\u001b[38;5;241m.\u001b[39mexp(\u001b[38;5;241m-\u001b[39mnp\u001b[38;5;241m.\u001b[39mlinalg\u001b[38;5;241m.\u001b[39mnorm(\u001b[38;5;28;43mself\u001b[39;49m\u001b[38;5;241;43m.\u001b[39;49m\u001b[43mX\u001b[49m\u001b[43m \u001b[49m\u001b[38;5;241;43m-\u001b[39;49m\u001b[43m \u001b[49m\u001b[43mx\u001b[49m\u001b[38;5;241;43m.\u001b[39;49m\u001b[43mT\u001b[49m, axis\u001b[38;5;241m=\u001b[39m\u001b[38;5;241m0\u001b[39m)\u001b[38;5;241m*\u001b[39m\u001b[38;5;241m*\u001b[39m\u001b[38;5;241m2\u001b[39m\u001b[38;5;241m/\u001b[39m(\u001b[38;5;241m2\u001b[39m\u001b[38;5;241m*\u001b[39m(\u001b[38;5;28mself\u001b[39m\u001b[38;5;241m.\u001b[39meps\u001b[38;5;241m*\u001b[39m\u001b[38;5;241m*\u001b[39m\u001b[38;5;241m2\u001b[39m))) \u001b[38;5;241m@\u001b[39m \u001b[38;5;28mself\u001b[39m\u001b[38;5;241m.\u001b[39meigenvectors\n\u001b[1;32m     63\u001b[0m \u001b[38;5;28;01melif\u001b[39;00m \u001b[38;5;28mself\u001b[39m\u001b[38;5;241m.\u001b[39mkernel \u001b[38;5;241m==\u001b[39m \u001b[38;5;124m\"\u001b[39m\u001b[38;5;124mpolynomial\u001b[39m\u001b[38;5;124m\"\u001b[39m:\n\u001b[1;32m     64\u001b[0m     phi_Xx \u001b[38;5;241m=\u001b[39m (\u001b[38;5;28mself\u001b[39m\u001b[38;5;241m.\u001b[39mc \u001b[38;5;241m+\u001b[39m x\u001b[38;5;241m.\u001b[39mT \u001b[38;5;241m@\u001b[39m \u001b[38;5;28mself\u001b[39m\u001b[38;5;241m.\u001b[39mX)\u001b[38;5;241m*\u001b[39m\u001b[38;5;241m*\u001b[39m\u001b[38;5;28mself\u001b[39m\u001b[38;5;241m.\u001b[39mp \u001b[38;5;241m@\u001b[39m \u001b[38;5;28mself\u001b[39m\u001b[38;5;241m.\u001b[39meigenvectors\n",
      "\u001b[0;31mValueError\u001b[0m: operands could not be broadcast together with shapes (3,499) (3,) "
     ]
    }
   ],
   "source": [
    "# kernel EDMD\n",
    "# 閾値\n",
    "eps = np.sqrt(10)\n",
    "c = 1.\n",
    "threshold = 1e-3\n",
    "M = X_lorentz.shape[1]\n",
    "\n",
    "# カーネルKoopman行列を求める\n",
    "#K_kernel = sp.linalg.inv((G_hat + c*np.eye(M,M))) @ A_hat\n",
    "#kedmd = kEDMD(X_lorentz, Y_lorentz, kernel=\"polynomial\", p=10, c=1)\n",
    "kedmd = kEDMD(X_lorentz, Y_lorentz, kernel=\"gaussian\", eps=np.sqrt(2))\n",
    "kedmd.fit()\n",
    "print(\"kedmd done\")\n",
    "# 予測値を求める\n",
    "pred = []\n",
    "print(X_lorentz.shape)\n",
    "for x in X_lorentz.T:\n",
    "    pred.append(kedmd.predict(x))\n",
    "error_kedmd = np.linalg.norm(np.array(pred).T - Y_lorentz, axis=0).mean()\n",
    "print(\"prediction done\")"
   ]
  },
  {
   "cell_type": "code",
   "execution_count": null,
   "id": "36da43c9-8a6e-423d-ae4c-8b866e15617d",
   "metadata": {},
   "outputs": [],
   "source": [
    "y_kedmd = np.array(pred).T\n",
    "y_kedmd = np.hstack([initial_value, y_kedmd])\n",
    "x1 = solution_lorentz1[0]\n",
    "y1 = solution_lorentz1[1]\n",
    "z1 = solution_lorentz1[2]\n",
    "fig = plt.figure(figsize=(10, 10))\n",
    "ax = fig.add_subplot(111, projection='3d')\n",
    "ax.scatter(initial_value[0], initial_value[1],initial_value[2], color=\"orange\", label=\"initial value\")\n",
    "ax.plot(x1, y1, z1,  linewidth=1.0, label=\"lorentz attractor\")\n",
    "ax.plot(y_kedmd[0], y_kedmd[1], y_kedmd[2], linewidth=1.0, label=\"predicted by kEDMD\")\n",
    "ax.set_title(\"lorentz attractor\", fontsize=10)\n",
    "ax.set_title(\"kEDMD prediction, n_data={}\".format(X_lorentz.shape[1]), fontsize=10)\n",
    "plt.legend(loc=\"upper right\", fontsize=10)\n",
    "\n",
    "# 3次元プロット\n",
    "plt.show()"
   ]
  }
 ],
 "metadata": {
  "kernelspec": {
   "display_name": "Python 3 (ipykernel)",
   "language": "python",
   "name": "python3"
  },
  "language_info": {
   "codemirror_mode": {
    "name": "ipython",
    "version": 3
   },
   "file_extension": ".py",
   "mimetype": "text/x-python",
   "name": "python",
   "nbconvert_exporter": "python",
   "pygments_lexer": "ipython3",
   "version": "3.11.4"
  }
 },
 "nbformat": 4,
 "nbformat_minor": 5
}
